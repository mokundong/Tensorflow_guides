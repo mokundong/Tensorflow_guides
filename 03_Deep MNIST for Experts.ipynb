{
 "cells": [
  {
   "cell_type": "markdown",
   "metadata": {},
   "source": [
    "# MNIST进阶教程"
   ]
  },
  {
   "cell_type": "markdown",
   "metadata": {},
   "source": [
    "**关于本教程**  \n",
    "本教程的第一部分解释了[mnist_softmax.py](https://www.github.com/tensorflow/tensorflow/blob/r1.1/tensorflow/examples/tutorials/mnist/mnist_softmax.py) 中的代码 ，这是Tensorflow模型的基本实现。第二部分显示了一些提高精度的方法。  \n",
    "您可以将本教程中的每个代码段复制并粘贴到Python环境中，或者你能下载mnist_deep.py代码以实现一个深度网络。  \n",
    "我们将在本教程中完成什么：\n",
    "\n",
    "- 基于图片中的每个像素，创建一个用于识别数字模型的softmax回归函数\n",
    "\n",
    "- 使用TensorFlow“学习”成千上万个案例来训练模型并识别数字（运行我们的第一个TensorFlow会话）\n",
    "\n",
    "- 使用测试数据检测模型的精度\n",
    "\n",
    "- 构建，训练和测试多层卷积神经网络以改善预测结果\n",
    "\n",
    "**构建**\n",
    "在创建我们的模型之前，我们将首先加载MNIST数据集，并启动TensorFlow会话。"
   ]
  },
  {
   "cell_type": "markdown",
   "metadata": {},
   "source": [
    "**加载MNIST数据集**  "
   ]
  },
  {
   "cell_type": "code",
   "execution_count": 1,
   "metadata": {},
   "outputs": [
    {
     "name": "stdout",
     "output_type": "stream",
     "text": [
      "Extracting MNIST_data/train-images-idx3-ubyte.gz\n",
      "Extracting MNIST_data/train-labels-idx1-ubyte.gz\n",
      "Extracting MNIST_data/t10k-images-idx3-ubyte.gz\n",
      "Extracting MNIST_data/t10k-labels-idx1-ubyte.gz\n"
     ]
    }
   ],
   "source": [
    "from tensorflow.examples.tutorials.mnist import input_data\n",
    "mnist = input_data.read_data_sets('MNIST_data', one_hot=True)"
   ]
  },
  {
   "cell_type": "markdown",
   "metadata": {},
   "source": [
    "mnist是一个存储训练、验证和测试集为NumPy数组的轻量级类。它还提供了一个迭代数据服务的函数，我们将在下面使用。  \n",
    "**启动TensorFlow InteractiveSession**  \n",
    "TensorFlow依靠高效的C ++后端来进行计算。与此后端的连接称为**会话**。TensorFlow程序的常见用法是首先创建一个**图形**，然后在会话中启动它。  \n",
    "我们使用方便的*InteractiveSession*类，这使得TensorFlow更加灵活地构建您的代码。它允许您将运行图的时候插入[计算图](https://www.tensorflow.org/get_started/get_started#the_computational_graph)。在IPython这样的交互式环境中工作时，这是非常方便的。如果您没有使用*InteractiveSession*，则应在开始会话前构建整个计算图，然后[启动图](https://www.tensorflow.org/get_started/get_started#the_computational_graph)。"
   ]
  },
  {
   "cell_type": "code",
   "execution_count": null,
   "metadata": {},
   "outputs": [],
   "source": []
  }
 ],
 "metadata": {
  "kernelspec": {
   "display_name": "Python 3",
   "language": "python",
   "name": "python3"
  },
  "language_info": {
   "codemirror_mode": {
    "name": "ipython",
    "version": 3
   },
   "file_extension": ".py",
   "mimetype": "text/x-python",
   "name": "python",
   "nbconvert_exporter": "python",
   "pygments_lexer": "ipython3",
   "version": "3.6.3"
  }
 },
 "nbformat": 4,
 "nbformat_minor": 2
}
