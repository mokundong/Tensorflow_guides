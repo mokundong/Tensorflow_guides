{
 "cells": [
  {
   "cell_type": "markdown",
   "metadata": {},
   "source": [
    "# ML初学者MNIST教程"
   ]
  },
  {
   "cell_type": "markdown",
   "metadata": {},
   "source": [
    "本教程适用于新来的机器学习和TensorFlow的读者。如果你已经知道MNIST是什么，以及softmax（多项逻辑斯蒂）regression，那么你可能更喜欢这个 快速入门教程。在开始其它教程之前，请务必 安装TensorFlow。 \n",
    "当学习如何编程时，有一个传统，你所做的第一件事是打印“Hello World”。就像编程有Hello World，机器学习有MNIST。  \n",
    "MNIST是一个简单的计算机视觉数据集。它由以下手写数字图像组成：  \n",
    "![GitHub](https://raw.githubusercontent.com/mokundong/images/master/t_2_1.jpg)    \n",
    "它还包括每个图像的标签，告诉我们每个图像对应哪个数字。例如，上述图像的标签是5,0,4和1.  \n",
    "在本教程中，我们将训练一个模型来查看图像并预测它们的数字。我们的目标不是训练一个具有最高水准的模型 - 尽管我们稍后会给你代码！ - 而是介绍如何使用TensorFlow。因此，我们将从一个非常简单的模型开始，我们称它为Softmax Regression。  \n",
    "本教程的实际代码很短，所有有趣的东西都包含在三行代码里。然而，了解其背后的想法是非常重要的：TensorFlow如何运作和机器学习核心概念。因此，我们将非常仔细地介绍这些代码。\n",
    "  \n",
    "**关于本教程**  \n",
    "本教程将逐行解释 mnist_softmax.py中的代码。  \n",
    "您可以通过以下几种不同的方式使用本教程，其中包括：\n",
    "- 当您阅读每行的说明时，将每个代码段逐行复制并粘贴到Python环境中。\n",
    "- 在阅读说明之前或之后运行mnist_softmax.py文件，并使用本教程来了解不清楚的代码行。\n",
    "- 我们将在本教程中完成什么：\n",
    "- 了解MNIST数据和softmax regressions\n",
    "- 基于图片中的每个像素，创建一个用于识别数字的模型函数\n",
    "- 使用TensorFlow“学习”成千上万个案例来训练模型并识别数字（运行我们的第一个TensorFlow会话）\n",
    "- 使用我们的测试数据检查模型的精度"
   ]
  },
  {
   "cell_type": "markdown",
   "metadata": {},
   "source": [
    "**MNIST数据**  \n",
    "MNIST数据托管在 [Yann LeCun的网站上](http://yann.lecun.com/exdb/mnist/)。如果您复制和粘贴本教程中的代码，请从这两行代码开始，这两行代码将自动下载并读取数据："
   ]
  },
  {
   "cell_type": "code",
   "execution_count": null,
   "metadata": {},
   "outputs": [],
   "source": [
    "from tensorflow.examples.tutorials.mnist import input_data\n",
    "mnist = input_data.read_data_sets(\"MNIST_data/\", one_hot=True) "
   ]
  },
  {
   "cell_type": "markdown",
   "metadata": {},
   "source": [
    "MNIST数据分为三个部分：训练数据（mnist.train），55000个训练数据集，10,000个测试数据集（mnist.test）和5000个验证数据集(mnist.validation)。这种做法是非常必要的：在机器学习中，我们必须有独立的测试数据集不拿来训练，而是拿来评估整个模型的性能，确保我们所学到的东西有很好的泛化能力！  \n",
    "如上所述，每个MNIST数据集都有两部分：手写数字图像和相应的标签。我们把图像设为“x”，把标签设为“y”。训练集和测试集都包含图像及其相应的标签; 例如训练的图像是mnist.train.images 和训练的标签是mnist.train.labels。  \n",
    "每个图像是28×28像素。我们可以把它解释为大量数字构成的数组：  \n",
    "![Github](https://raw.githubusercontent.com/mokundong/images/master/t_2_2.jpg)  \n",
    "我们可以把这个数组变成一个28×28 = 784数字的向量。只要图像之间平铺方式保持一致，那么我们如何平铺这个数组并不重要。从这个角度来看，MNIST图像只是784维向量空间中的一个点，并且[结构非常复杂](http://colah.github.io/posts/2014-10-Visualizing-MNIST/) （注意：计算密集型的可视化）。  \n",
    "平铺数据会丢弃有关图像2D结构的信息。那样岂不是更糟糕吗？ 通常，最优的计算机视觉方法会利用这个结构，我们将在后面的教程中介绍。但是我们将在这里使用简单方法，softmax回归（下面会定义）不会利用这些结构信息。 \n",
    "mnist.train.images是一个具有[55000, 784]形状的张量（n维数组）。第一个维度代表图像列表中的索引，第二个维度是每个图像中每个像素的索引。对于给定图像中的某个像素，张量中的每个元素表示0-1之间的像素强度。  \n",
    "![Github](https://raw.githubusercontent.com/mokundong/images/master/t_2_3.jpg)  \n",
    "MNIST中的每个图像都具有相应的标签，0到9之间的数字表示图像中的数字。  \n",
    "对于本教程，我们将标签称为“one-hot vectors”。一个one-hot是一个大多数维度上为0，一个维度上为1的向量。在这种情况下，第n个数字将被表示成1所在的维度。例如，3将是  [0，0，0，1，0，0，0，0，0，0]。因此，mnist.train.labels是一个[55000, 10]的浮点型数组。  \n",
    "![](https://raw.githubusercontent.com/mokundong/images/master/t_2_4.jpg)  \n",
    "现在我们准备开始构建模型！"
   ]
  },
  {
   "cell_type": "markdown",
   "metadata": {},
   "source": [
    "## SoftMax回归"
   ]
  },
  {
   "cell_type": "markdown",
   "metadata": {},
   "source": [
    "我们知道MNIST中的每个图像都是零到九之间的手写数字。所以给定的图像只能有十个可能。我们希望给定的一个图像，给出它是哪个数字的概率。例如，我们的模型会得到一个数字可能为9的图片，它的概率为80%，但它是8的概率是5%（因为8和9上部都有一个相近的圆），而代表其它数字的概率更小。  \n",
    "这是一个使用softmax回归的简单模型的经典案例。softmax给不同的对象分配概率，由于softmax给出了一个0到1之间的值，这些值加起来等于1。稍后，当我们训练更加复杂的模型，最后一步将加上一层softmax。  \n",
    "softmax回归有两个步骤：首先我们对输入图片属于某个数字类别的依据进行叠加，然后将该依据转换成概率。  \n",
    "为了统计给定图像属于某个数字类中的证据，我们对像素值进行加权求和。如果图片像素很大程度上不属于某个类，那么权重是负的，如果它很有可能属于这个类，那么权重为正。  \n",
    "下图显示了模型从每个类学习到的权重。红色代表权重为负，而蓝色代表权重为正。  \n",
    "![](https://raw.githubusercontent.com/mokundong/images/master/t_2_5.jpg)  \n",
    "我们还增加一个额外的偏置量。从根本上来说，这样做是由于我们希望输入不带有一些干扰量。因此，给定输入图片 x， 它代表的是数字 i 的证据表达式为：  \n",
    "![]()"
   ]
  },
  {
   "cell_type": "code",
   "execution_count": null,
   "metadata": {},
   "outputs": [],
   "source": []
  }
 ],
 "metadata": {
  "kernelspec": {
   "display_name": "Python 3",
   "language": "python",
   "name": "python3"
  },
  "language_info": {
   "codemirror_mode": {
    "name": "ipython",
    "version": 3
   },
   "file_extension": ".py",
   "mimetype": "text/x-python",
   "name": "python",
   "nbconvert_exporter": "python",
   "pygments_lexer": "ipython3",
   "version": "3.6.3"
  }
 },
 "nbformat": 4,
 "nbformat_minor": 2
}
