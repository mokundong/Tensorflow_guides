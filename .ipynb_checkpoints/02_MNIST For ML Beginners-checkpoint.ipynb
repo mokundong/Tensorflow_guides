{
 "cells": [
  {
   "cell_type": "markdown",
   "metadata": {},
   "source": [
    "# ML初学者MNIST教程"
   ]
  },
  {
   "cell_type": "markdown",
   "metadata": {},
   "source": [
    "本教程适用于新来的机器学习和TensorFlow的读者。如果你已经知道MNIST是什么，以及softmax（多项逻辑斯蒂）regression，那么你可能更喜欢这个 快速入门教程。在开始其它教程之前，请务必 安装TensorFlow。 \n",
    "当学习如何编程时，有一个传统，你所做的第一件事是打印“Hello World”。就像编程有Hello World，机器学习有MNIST。  \n",
    "MNIST是一个简单的计算机视觉数据集。它由以下手写数字图像组成：  \n",
    "![GitHub](https://raw.githubusercontent.com/mokundong/images/master/t_2_1.jpg)    \n",
    "它还包括每个图像的标签，告诉我们每个图像对应哪个数字。例如，上述图像的标签是5,0,4和1.  \n",
    "在本教程中，我们将训练一个模型来查看图像并预测它们的数字。我们的目标不是训练一个具有最高水准的模型 - 尽管我们稍后会给你代码！ - 而是介绍如何使用TensorFlow。因此，我们将从一个非常简单的模型开始，我们称它为Softmax Regression。  \n",
    "本教程的实际代码很短，所有有趣的东西都包含在三行代码里。然而，了解其背后的想法是非常重要的：TensorFlow如何运作和机器学习核心概念。因此，我们将非常仔细地介绍这些代码。\n",
    "  \n",
    "**关于本教程**  \n",
    "本教程将逐行解释 mnist_softmax.py中的代码。  \n",
    "您可以通过以下几种不同的方式使用本教程，其中包括：\n",
    "- 当您阅读每行的说明时，将每个代码段逐行复制并粘贴到Python环境中。\n",
    "- 在阅读说明之前或之后运行mnist_softmax.py文件，并使用本教程来了解不清楚的代码行。\n",
    "- 我们将在本教程中完成什么：\n",
    "- 了解MNIST数据和softmax regressions\n",
    "- 基于图片中的每个像素，创建一个用于识别数字的模型函数\n",
    "- 使用TensorFlow“学习”成千上万个案例来训练模型并识别数字（运行我们的第一个TensorFlow会话）\n",
    "- 使用我们的测试数据检查模型的精度"
   ]
  },
  {
   "cell_type": "code",
   "execution_count": null,
   "metadata": {},
   "outputs": [],
   "source": []
  }
 ],
 "metadata": {
  "kernelspec": {
   "display_name": "Python 3",
   "language": "python",
   "name": "python3"
  },
  "language_info": {
   "codemirror_mode": {
    "name": "ipython",
    "version": 3
   },
   "file_extension": ".py",
   "mimetype": "text/x-python",
   "name": "python",
   "nbconvert_exporter": "python",
   "pygments_lexer": "ipython3",
   "version": "3.6.3"
  }
 },
 "nbformat": 4,
 "nbformat_minor": 2
}
